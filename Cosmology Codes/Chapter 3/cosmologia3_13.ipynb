{
 "cells": [
  {
   "cell_type": "code",
   "execution_count": 13,
   "metadata": {},
   "outputs": [
    {
     "data": {
      "text/latex": [
       "$\\displaystyle \\left[\\begin{matrix}\\left(2 \\Phi{\\left(t,x,y,z \\right)} + 1\\right) a^{2}{\\left(t \\right)} & 0 & 0\\\\0 & \\left(2 \\Phi{\\left(t,x,y,z \\right)} + 1\\right) a^{2}{\\left(t \\right)} & 0\\\\0 & 0 & \\left(2 \\Phi{\\left(t,x,y,z \\right)} + 1\\right) a^{2}{\\left(t \\right)}\\end{matrix}\\right]$"
      ],
      "text/plain": [
       "<IPython.core.display.Math object>"
      ]
     },
     "metadata": {},
     "output_type": "display_data"
    },
    {
     "data": {
      "text/latex": [
       "$\\displaystyle \\left[\\begin{matrix}\\left[\\begin{matrix}\\frac{\\frac{\\partial}{\\partial x} \\Phi{\\left(t,x,y,z \\right)}}{2 \\Phi{\\left(t,x,y,z \\right)} + 1} & \\frac{\\frac{\\partial}{\\partial y} \\Phi{\\left(t,x,y,z \\right)}}{2 \\Phi{\\left(t,x,y,z \\right)} + 1} & \\frac{\\frac{\\partial}{\\partial z} \\Phi{\\left(t,x,y,z \\right)}}{2 \\Phi{\\left(t,x,y,z \\right)} + 1}\\\\\\frac{\\frac{\\partial}{\\partial y} \\Phi{\\left(t,x,y,z \\right)}}{2 \\Phi{\\left(t,x,y,z \\right)} + 1} & - \\frac{\\frac{\\partial}{\\partial x} \\Phi{\\left(t,x,y,z \\right)}}{2 \\Phi{\\left(t,x,y,z \\right)} + 1} & 0\\\\\\frac{\\frac{\\partial}{\\partial z} \\Phi{\\left(t,x,y,z \\right)}}{2 \\Phi{\\left(t,x,y,z \\right)} + 1} & 0 & - \\frac{\\frac{\\partial}{\\partial x} \\Phi{\\left(t,x,y,z \\right)}}{2 \\Phi{\\left(t,x,y,z \\right)} + 1}\\end{matrix}\\right] & \\left[\\begin{matrix}- \\frac{\\frac{\\partial}{\\partial y} \\Phi{\\left(t,x,y,z \\right)}}{2 \\Phi{\\left(t,x,y,z \\right)} + 1} & \\frac{\\frac{\\partial}{\\partial x} \\Phi{\\left(t,x,y,z \\right)}}{2 \\Phi{\\left(t,x,y,z \\right)} + 1} & 0\\\\\\frac{\\frac{\\partial}{\\partial x} \\Phi{\\left(t,x,y,z \\right)}}{2 \\Phi{\\left(t,x,y,z \\right)} + 1} & \\frac{\\frac{\\partial}{\\partial y} \\Phi{\\left(t,x,y,z \\right)}}{2 \\Phi{\\left(t,x,y,z \\right)} + 1} & \\frac{\\frac{\\partial}{\\partial z} \\Phi{\\left(t,x,y,z \\right)}}{2 \\Phi{\\left(t,x,y,z \\right)} + 1}\\\\0 & \\frac{\\frac{\\partial}{\\partial z} \\Phi{\\left(t,x,y,z \\right)}}{2 \\Phi{\\left(t,x,y,z \\right)} + 1} & - \\frac{\\frac{\\partial}{\\partial y} \\Phi{\\left(t,x,y,z \\right)}}{2 \\Phi{\\left(t,x,y,z \\right)} + 1}\\end{matrix}\\right] & \\left[\\begin{matrix}- \\frac{\\frac{\\partial}{\\partial z} \\Phi{\\left(t,x,y,z \\right)}}{2 \\Phi{\\left(t,x,y,z \\right)} + 1} & 0 & \\frac{\\frac{\\partial}{\\partial x} \\Phi{\\left(t,x,y,z \\right)}}{2 \\Phi{\\left(t,x,y,z \\right)} + 1}\\\\0 & - \\frac{\\frac{\\partial}{\\partial z} \\Phi{\\left(t,x,y,z \\right)}}{2 \\Phi{\\left(t,x,y,z \\right)} + 1} & \\frac{\\frac{\\partial}{\\partial y} \\Phi{\\left(t,x,y,z \\right)}}{2 \\Phi{\\left(t,x,y,z \\right)} + 1}\\\\\\frac{\\frac{\\partial}{\\partial x} \\Phi{\\left(t,x,y,z \\right)}}{2 \\Phi{\\left(t,x,y,z \\right)} + 1} & \\frac{\\frac{\\partial}{\\partial y} \\Phi{\\left(t,x,y,z \\right)}}{2 \\Phi{\\left(t,x,y,z \\right)} + 1} & \\frac{\\frac{\\partial}{\\partial z} \\Phi{\\left(t,x,y,z \\right)}}{2 \\Phi{\\left(t,x,y,z \\right)} + 1}\\end{matrix}\\right]\\end{matrix}\\right]$"
      ],
      "text/plain": [
       "<IPython.core.display.Math object>"
      ]
     },
     "metadata": {},
     "output_type": "display_data"
    }
   ],
   "source": [
    "import sympy as sp\n",
    "from einsteinpy.symbolic import *\n",
    "from IPython.display import display, Math\n",
    "\n",
    "# Initialize printing with a custom LaTeX printer\n",
    "sp.init_printing()\n",
    "\n",
    "latexReplaceRules = {\n",
    "    r'\\frac{d}{d t}': r'\\dot',\n",
    "    r'\\frac{d^{2}}{d t^{2}}': r'\\ddot',\n",
    "}\n",
    "\n",
    "def latexNew(expr, **kwargs):\n",
    "    retStr = sp.latex(expr, **kwargs)\n",
    "    for old, new in latexReplaceRules.items():\n",
    "        retStr = retStr.replace(old, new)\n",
    "    return retStr\n",
    "\n",
    "# Define the time variable and scale factor\n",
    "t = sp.symbols('t')  # Time coordinate\n",
    "a = sp.Function('a')(t)  # Scale factor as a function of time\n",
    "\n",
    "# Define spatial coordinates\n",
    "x, y, z = sp.symbols('x y z')\n",
    "\n",
    "# Redefine Psi and Phi as functions of t, x, y, and z\n",
    "psi = sp.Function(r'\\Psi')(t, x, y, z)  # Perturbation as a function of time and space\n",
    "phi = sp.Function(r'\\Phi')(t, x, y, z)  # Perturbation as a function of time and space\n",
    "\n",
    "# Define the FLRW metric\n",
    "metric = [\n",
    "    [-1-2*psi, 0, 0, 0],                    # g_{tt} = -1 - 2*Psi(x,t)\n",
    "    [0, (a**2) + 2*(a**2) * phi, 0, 0],     # g_{xx} = a(t)^2 + 2*a(t)^2*Phi(x,t)\n",
    "    [0, 0, (a**2) + 2*(a**2) * phi, 0],     # g_{yy} = a(t)^2 + 2*a(t)^2*Phi(x,t)\n",
    "    [0, 0, 0, (a**2) + 2*(a**2) * phi]      # g_{zz} = a(t)^2 + 2*a(t)^2*Phi(x,t)\n",
    "]\n",
    "\n",
    "metric_spatial = [\n",
    "    [(a**2) *(1 + 2* phi), 0, 0],     # g_{xx} = a(t)^2 + 2*a(t)^2*Phi(x,t)\n",
    "    [0, (a**2) *(1 + 2* phi), 0],     # g_{yy} = a(t)^2 + 2*a(t)^2*Phi(x,t)\n",
    "    [0, 0, (a**2) *(1 + 2* phi)]      # g_{zz} = a(t)^2 + 2*a(t)^2*Phi(x,t)\n",
    "]\n",
    "\n",
    "# Create the MetricTensor object\n",
    "flrw_metric = MetricTensor(metric_spatial, [x, y, z])\n",
    "display(Math(latexNew(flrw_metric.tensor())))\n",
    "\n",
    "# Compute Christoffel Symbols\n",
    "ch = ChristoffelSymbols.from_metric(flrw_metric)\n",
    "ch.simplify()\n",
    "display(Math(latexNew(ch.tensor())))\n"
   ]
  },
  {
   "cell_type": "code",
   "execution_count": 14,
   "metadata": {},
   "outputs": [
    {
     "data": {
      "text/latex": [
       "$\\displaystyle \\text{Escalar de Ricci da parte espacial:}$"
      ],
      "text/plain": [
       "<IPython.core.display.Math object>"
      ]
     },
     "metadata": {},
     "output_type": "display_data"
    },
    {
     "data": {
      "text/latex": [
       "$\\displaystyle R = \\frac{2 \\left(- \\left(2 \\Phi{\\left(t,x,y,z \\right)} + 1\\right) \\left(\\frac{\\partial^{2}}{\\partial x^{2}} \\Phi{\\left(t,x,y,z \\right)} + \\frac{\\partial^{2}}{\\partial y^{2}} \\Phi{\\left(t,x,y,z \\right)}\\right) - \\left(2 \\Phi{\\left(t,x,y,z \\right)} + 1\\right) \\left(\\frac{\\partial^{2}}{\\partial x^{2}} \\Phi{\\left(t,x,y,z \\right)} + \\frac{\\partial^{2}}{\\partial z^{2}} \\Phi{\\left(t,x,y,z \\right)}\\right) - \\left(2 \\Phi{\\left(t,x,y,z \\right)} + 1\\right) \\left(\\frac{\\partial^{2}}{\\partial y^{2}} \\Phi{\\left(t,x,y,z \\right)} + \\frac{\\partial^{2}}{\\partial z^{2}} \\Phi{\\left(t,x,y,z \\right)}\\right) + 3 \\left(\\frac{\\partial}{\\partial x} \\Phi{\\left(t,x,y,z \\right)}\\right)^{2} + 3 \\left(\\frac{\\partial}{\\partial y} \\Phi{\\left(t,x,y,z \\right)}\\right)^{2} + 3 \\left(\\frac{\\partial}{\\partial z} \\Phi{\\left(t,x,y,z \\right)}\\right)^{2}\\right)}{\\left(2 \\Phi{\\left(t,x,y,z \\right)} + 1\\right)^{3} a^{2}{\\left(t \\right)}}$"
      ],
      "text/plain": [
       "<IPython.core.display.Math object>"
      ]
     },
     "metadata": {},
     "output_type": "display_data"
    }
   ],
   "source": [
    "# Compute the Ricci Tensor\n",
    "Ric = RicciTensor.from_metric(flrw_metric)\n",
    "Ric.simplify()\n",
    "\n",
    "display(Math(r'\\text{Escalar de Ricci da parte espacial:}'))\n",
    "# Compute the Ricci Scalar\n",
    "R = RicciScalar.from_riccitensor(Ric)\n",
    "R.simplify()\n",
    "# Extract the expression from RicciScalar\n",
    "display(Math(r'R = ' + latexNew(R.tensor())))"
   ]
  }
 ],
 "metadata": {
  "kernelspec": {
   "display_name": ".venv",
   "language": "python",
   "name": "python3"
  },
  "language_info": {
   "codemirror_mode": {
    "name": "ipython",
    "version": 3
   },
   "file_extension": ".py",
   "mimetype": "text/x-python",
   "name": "python",
   "nbconvert_exporter": "python",
   "pygments_lexer": "ipython3",
   "version": "3.12.4"
  }
 },
 "nbformat": 4,
 "nbformat_minor": 2
}
