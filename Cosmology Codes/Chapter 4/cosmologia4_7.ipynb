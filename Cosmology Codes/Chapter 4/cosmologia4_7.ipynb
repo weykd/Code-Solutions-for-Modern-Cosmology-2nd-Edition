{
 "cells": [
  {
   "cell_type": "code",
   "execution_count": 43,
   "metadata": {},
   "outputs": [
    {
     "name": "stdout",
     "output_type": "stream",
     "text": [
      "Value of the integral: 2.9984811011984945e-108\n"
     ]
    }
   ],
   "source": [
    "import numpy as np\n",
    "from scipy.integrate import quad\n",
    "\n",
    "# Constants\n",
    "g = 9.78\n",
    "H0 = 2.133e-39  # Hubble constant in MeV\n",
    "T0 = 0.2348  # CMB temperature in MeV\n",
    "alpha = 1 / 137.036  # Fine structure constant\n",
    "m_e = 0.511  # Electron mass in MeV\n",
    "epsilon_0 = m_e + 938.272 + 939.565  # Combined mass (MeV)\n",
    "hbar = 6.582119569e-22  # Reduced Planck constant in MeV·s\n",
    "pi = np.pi\n",
    "\n",
    "# Define the inner integral over x\n",
    "def inner_integral_x(x, delta):\n",
    "    exponent = np.sqrt(delta**2 + x**2)\n",
    "    if exponent > 700:  # Safeguard against overflow\n",
    "        return 0\n",
    "    ln_x = np.log(x)\n",
    "    factor = (g / H0) * (T0 * alpha / m_e)**2 * (5 * epsilon_0**3 / (pi**2 * hbar**3))\n",
    "    return factor * (ln_x / x**(3/2)) * delta**2 * np.exp(-exponent)\n",
    "\n",
    "# Define the outer integral over delta\n",
    "def outer_integral(delta):\n",
    "    result, _ = quad(inner_integral_x, 1, 1000, args=(delta,))\n",
    "    return result\n",
    "\n",
    "# Perform the final integration over delta\n",
    "delta_min, delta_max = 0, 1000\n",
    "final_result, error = quad(outer_integral, delta_min, delta_max)\n",
    "hence = 1/ final_result\n",
    "\n",
    "# Output the result\n",
    "print(f\"Value of the integral:\", hence)\n"
   ]
  }
 ],
 "metadata": {
  "kernelspec": {
   "display_name": ".venv",
   "language": "python",
   "name": "python3"
  },
  "language_info": {
   "codemirror_mode": {
    "name": "ipython",
    "version": 3
   },
   "file_extension": ".py",
   "mimetype": "text/x-python",
   "name": "python",
   "nbconvert_exporter": "python",
   "pygments_lexer": "ipython3",
   "version": "3.12.4"
  }
 },
 "nbformat": 4,
 "nbformat_minor": 2
}
