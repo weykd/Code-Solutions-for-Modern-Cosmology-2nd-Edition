{
 "cells": [
  {
   "cell_type": "code",
   "execution_count": 11,
   "metadata": {},
   "outputs": [
    {
     "name": "stdout",
     "output_type": "stream",
     "text": [
      "The solution for a with c = 1e+25 is approximately: a = 59.847469\n"
     ]
    }
   ],
   "source": [
    "import numpy as np\n",
    "from scipy.integrate import quad\n",
    "from scipy.optimize import fsolve\n",
    "\n",
    "# Define the integral function\n",
    "def integral_function(x, a):\n",
    "    exp_argument = np.sqrt(x**2 + a**2)\n",
    "    return x**2 * np.exp(-exp_argument)  # Use exp(-arg) to avoid overflow\n",
    "\n",
    "# Define the equation to solve: integral - a/c = 0\n",
    "def equation_to_solve(a, c):\n",
    "    integral_value, _ = quad(integral_function, 0, np.inf, args=(a,))\n",
    "    return integral_value - a / c\n",
    "\n",
    "# Solve for a given c\n",
    "def solve_for_a(c, initial_guess=1.0):\n",
    "    solution = fsolve(equation_to_solve, x0=initial_guess, args=(c,))\n",
    "    return solution[0]\n",
    "\n",
    "# Example usage\n",
    "c = 1e25 # Example constant\n",
    "a_solution = solve_for_a(c)\n",
    "print(f\"The solution for a with c = {c} is approximately: a = {a_solution:.6f}\")\n"
   ]
  }
 ],
 "metadata": {
  "kernelspec": {
   "display_name": ".venv",
   "language": "python",
   "name": "python3"
  },
  "language_info": {
   "codemirror_mode": {
    "name": "ipython",
    "version": 3
   },
   "file_extension": ".py",
   "mimetype": "text/x-python",
   "name": "python",
   "nbconvert_exporter": "python",
   "pygments_lexer": "ipython3",
   "version": "3.12.4"
  }
 },
 "nbformat": 4,
 "nbformat_minor": 2
}
