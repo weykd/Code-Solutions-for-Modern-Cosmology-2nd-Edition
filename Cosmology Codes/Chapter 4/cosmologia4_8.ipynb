{
 "cells": [
  {
   "cell_type": "code",
   "execution_count": 95,
   "metadata": {},
   "outputs": [
    {
     "name": "stdout",
     "output_type": "stream",
     "text": [
      "The solution for x is approximately: 27.39\n"
     ]
    }
   ],
   "source": [
    "import numpy as np\n",
    "from scipy.integrate import quad\n",
    "from scipy.optimize import fsolve\n",
    "\n",
    "def integral_function(a, x):\n",
    "    \"\"\"Stable computation of the integrand.\"\"\"\n",
    "    exponent = np.sqrt(a**2 + x**2)\n",
    "    # Use expm1 to improve precision for small values of exponent\n",
    "    denominator = np.exp(exponent) + 1\n",
    "    return a**2 / denominator\n",
    "\n",
    "def compute_integral(x):\n",
    "    \"\"\"Numerically compute the integral for a given x.\"\"\"\n",
    "    # Truncate integration range to avoid overflow\n",
    "    upper_limit = 700 if x < 100 else min(x * 10, 1e3)\n",
    "    integral, _ = quad(integral_function, 0, upper_limit, args=(x,))\n",
    "    return integral\n",
    "\n",
    "def equation_to_solve(x, b):\n",
    "    \"\"\"Equation: x = b * integral\"\"\"\n",
    "    integral_value = compute_integral(x)\n",
    "    return x - b * integral_value\n",
    "\n",
    "def solve_for_x(b, x_guess=20):\n",
    "    \"\"\"Solve for x given a constant a.\"\"\"\n",
    "    solution = fsolve(equation_to_solve, x_guess, args=(b,))\n",
    "    return solution[0]\n",
    "\n",
    "# Set Constants\n",
    "g_x = 1\n",
    "b = g_x * 1.13273e11\n",
    "x_solution = solve_for_x(b)\n",
    "print(f\"The solution for x is approximately: {x_solution:.2f}\")"
   ]
  }
 ],
 "metadata": {
  "kernelspec": {
   "display_name": ".venv",
   "language": "python",
   "name": "python3"
  },
  "language_info": {
   "codemirror_mode": {
    "name": "ipython",
    "version": 3
   },
   "file_extension": ".py",
   "mimetype": "text/x-python",
   "name": "python",
   "nbconvert_exporter": "python",
   "pygments_lexer": "ipython3",
   "version": "3.12.4"
  }
 },
 "nbformat": 4,
 "nbformat_minor": 2
}
